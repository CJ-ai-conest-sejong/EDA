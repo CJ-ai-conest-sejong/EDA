{
  "nbformat": 4,
  "nbformat_minor": 0,
  "metadata": {
    "colab": {
      "name": "CJ_EDAipynb",
      "provenance": [],
      "collapsed_sections": []
    },
    "kernelspec": {
      "name": "python3",
      "display_name": "Python 3"
    },
    "language_info": {
      "name": "python"
    }
  },
  "cells": [
    {
      "cell_type": "code",
      "metadata": {
        "colab": {
          "base_uri": "https://localhost:8080/"
        },
        "id": "NyfhqzmKij2Q",
        "outputId": "0fbbc024-4acd-4a06-9307-b2e943f10a43"
      },
      "source": [
        "from google.colab import drive\n",
        "drive.mount('/content/gdrive/')"
      ],
      "execution_count": 1,
      "outputs": [
        {
          "output_type": "stream",
          "name": "stdout",
          "text": [
            "Mounted at /content/gdrive/\n"
          ]
        }
      ]
    },
    {
      "cell_type": "code",
      "metadata": {
        "id": "xozMxuuQiXBs"
      },
      "source": [
        "import pandas as pd\n",
        "import matplotlib.pyplot as plt\n",
        "import seaborn as sns\n",
        "import numpy as np\n",
        "\n",
        "from sklearn.preprocessing import LabelEncoder"
      ],
      "execution_count": 2,
      "outputs": []
    },
    {
      "cell_type": "code",
      "metadata": {
        "id": "JA9tZvuDicB6"
      },
      "source": [
        "march_path = '/content/gdrive/MyDrive/Dataset/CJ AI/march.csv'"
      ],
      "execution_count": 3,
      "outputs": []
    },
    {
      "cell_type": "code",
      "metadata": {
        "colab": {
          "base_uri": "https://localhost:8080/"
        },
        "id": "cXtwEEZVib_j",
        "outputId": "1e491ac1-1714-410f-876a-72480e2c1a11"
      },
      "source": [
        "march = pd.read_csv(march_path, encoding = 'utf-8')"
      ],
      "execution_count": 4,
      "outputs": [
        {
          "output_type": "stream",
          "name": "stderr",
          "text": [
            "/usr/local/lib/python3.7/dist-packages/IPython/core/interactiveshell.py:2718: DtypeWarning: Columns (16,17) have mixed types.Specify dtype option on import or set low_memory=False.\n",
            "  interactivity=interactivity, compiler=compiler, result=result)\n"
          ]
        }
      ]
    },
    {
      "cell_type": "code",
      "metadata": {
        "id": "7PFMPpZXib9O"
      },
      "source": [
        "march = march.dropna(axis = 0, how = 'any')"
      ],
      "execution_count": 5,
      "outputs": []
    },
    {
      "cell_type": "code",
      "metadata": {
        "id": "Wtt8DWZwHiFW"
      },
      "source": [
        "# march = march.iloc[:,:-1]"
      ],
      "execution_count": null,
      "outputs": []
    },
    {
      "cell_type": "code",
      "metadata": {
        "colab": {
          "base_uri": "https://localhost:8080/",
          "height": 575
        },
        "id": "HDtV15jrHrL-",
        "outputId": "f90599bb-7ba2-4e94-94e4-7a09e12e06fc"
      },
      "source": [
        "march"
      ],
      "execution_count": 6,
      "outputs": [
        {
          "output_type": "execute_result",
          "data": {
            "text/html": [
              "<div>\n",
              "<style scoped>\n",
              "    .dataframe tbody tr th:only-of-type {\n",
              "        vertical-align: middle;\n",
              "    }\n",
              "\n",
              "    .dataframe tbody tr th {\n",
              "        vertical-align: top;\n",
              "    }\n",
              "\n",
              "    .dataframe thead th {\n",
              "        text-align: right;\n",
              "    }\n",
              "</style>\n",
              "<table border=\"1\" class=\"dataframe\">\n",
              "  <thead>\n",
              "    <tr style=\"text-align: right;\">\n",
              "      <th></th>\n",
              "      <th>CORP_ID</th>\n",
              "      <th>REF_ORD_NO</th>\n",
              "      <th>BKG_NO</th>\n",
              "      <th>BKG_TYP</th>\n",
              "      <th>BKG_DATE</th>\n",
              "      <th>BKG_TIME</th>\n",
              "      <th>SHPR_CD</th>\n",
              "      <th>INV_AMT</th>\n",
              "      <th>ITEM_SEQ</th>\n",
              "      <th>ITEM_CD</th>\n",
              "      <th>BRAND_NM</th>\n",
              "      <th>ITEM_QTY</th>\n",
              "      <th>ITEM_AMT</th>\n",
              "      <th>IF_YN</th>\n",
              "      <th>ORDER_CRT_DATETIME</th>\n",
              "      <th>DLV_DV</th>\n",
              "      <th>REF_ITEM_SEQ</th>\n",
              "      <th>ORDER_IDX</th>\n",
              "      <th>ORDER_YN</th>\n",
              "      <th>DLVPREARRBRANCD</th>\n",
              "      <th>DLVPREARREMPNICKNM</th>\n",
              "      <th>DLVCLSFCD</th>\n",
              "      <th>DLVSUBCLSFCD</th>\n",
              "      <th>INS_ID</th>\n",
              "      <th>INS_DATE</th>\n",
              "      <th>INS_TIME</th>\n",
              "      <th>POST_ZONE</th>\n",
              "      <th>SPLIT_EXEC_YN</th>\n",
              "      <th>SHPR_ADDR_1</th>\n",
              "      <th>SHPR_ADDR_2</th>\n",
              "      <th>CNEE_ADDR_1</th>\n",
              "      <th>CNEE_ADDR_2</th>\n",
              "    </tr>\n",
              "  </thead>\n",
              "  <tbody>\n",
              "    <tr>\n",
              "      <th>1</th>\n",
              "      <td>KX007</td>\n",
              "      <td>2021030365922951</td>\n",
              "      <td>KX007210303371080</td>\n",
              "      <td>7</td>\n",
              "      <td>20210303</td>\n",
              "      <td>35521</td>\n",
              "      <td>90001441</td>\n",
              "      <td>20900.0</td>\n",
              "      <td>1</td>\n",
              "      <td>4610261043_2</td>\n",
              "      <td>조합형옵션상품</td>\n",
              "      <td>1</td>\n",
              "      <td>20900.0</td>\n",
              "      <td>N</td>\n",
              "      <td>2.021030e+13</td>\n",
              "      <td>1.0</td>\n",
              "      <td>2021030323885721</td>\n",
              "      <td>2021030323885721</td>\n",
              "      <td>Y</td>\n",
              "      <td>6427</td>\n",
              "      <td>M09</td>\n",
              "      <td>6R67</td>\n",
              "      <td>4</td>\n",
              "      <td>iNEXBatch</td>\n",
              "      <td>20210303</td>\n",
              "      <td>131425</td>\n",
              "      <td>50.0</td>\n",
              "      <td>N</td>\n",
              "      <td>경기도</td>\n",
              "      <td>광주시</td>\n",
              "      <td>경상남도</td>\n",
              "      <td>김해시</td>\n",
              "    </tr>\n",
              "    <tr>\n",
              "      <th>2</th>\n",
              "      <td>KX007</td>\n",
              "      <td>2021030365924361</td>\n",
              "      <td>KX007210303371081</td>\n",
              "      <td>7</td>\n",
              "      <td>20210303</td>\n",
              "      <td>35513</td>\n",
              "      <td>90001441</td>\n",
              "      <td>37900.0</td>\n",
              "      <td>1</td>\n",
              "      <td>4936599538_1</td>\n",
              "      <td>조합형옵션상품</td>\n",
              "      <td>1</td>\n",
              "      <td>37900.0</td>\n",
              "      <td>N</td>\n",
              "      <td>2.021030e+13</td>\n",
              "      <td>1.0</td>\n",
              "      <td>2021030323887981</td>\n",
              "      <td>2021030323887981</td>\n",
              "      <td>Y</td>\n",
              "      <td>6158</td>\n",
              "      <td>L32</td>\n",
              "      <td>9Y25</td>\n",
              "      <td>0</td>\n",
              "      <td>iNEXBatch</td>\n",
              "      <td>20210303</td>\n",
              "      <td>131425</td>\n",
              "      <td>53.0</td>\n",
              "      <td>N</td>\n",
              "      <td>경기도</td>\n",
              "      <td>광주시</td>\n",
              "      <td>경상남도</td>\n",
              "      <td>거제시</td>\n",
              "    </tr>\n",
              "    <tr>\n",
              "      <th>3</th>\n",
              "      <td>KX007</td>\n",
              "      <td>2021030365928921</td>\n",
              "      <td>KX007210303371205</td>\n",
              "      <td>7</td>\n",
              "      <td>20210303</td>\n",
              "      <td>35608</td>\n",
              "      <td>90001542</td>\n",
              "      <td>69800.0</td>\n",
              "      <td>1</td>\n",
              "      <td>3858391637_1</td>\n",
              "      <td>조합형옵션상품</td>\n",
              "      <td>1</td>\n",
              "      <td>69800.0</td>\n",
              "      <td>N</td>\n",
              "      <td>2.021030e+13</td>\n",
              "      <td>1.0</td>\n",
              "      <td>2021030323895281</td>\n",
              "      <td>2021030323895281</td>\n",
              "      <td>Y</td>\n",
              "      <td>8909</td>\n",
              "      <td>D21</td>\n",
              "      <td>1N65</td>\n",
              "      <td>1</td>\n",
              "      <td>iNEXBatch</td>\n",
              "      <td>20210303</td>\n",
              "      <td>131425</td>\n",
              "      <td>6.0</td>\n",
              "      <td>N</td>\n",
              "      <td>경기도</td>\n",
              "      <td>광주시</td>\n",
              "      <td>서울특별시</td>\n",
              "      <td>서초구</td>\n",
              "    </tr>\n",
              "    <tr>\n",
              "      <th>4</th>\n",
              "      <td>KX007</td>\n",
              "      <td>2021030365930451</td>\n",
              "      <td>KX007210303370967</td>\n",
              "      <td>7</td>\n",
              "      <td>20210303</td>\n",
              "      <td>35551</td>\n",
              "      <td>90001341</td>\n",
              "      <td>73700.0</td>\n",
              "      <td>1</td>\n",
              "      <td>4631307460</td>\n",
              "      <td>단일상품</td>\n",
              "      <td>1</td>\n",
              "      <td>39800.0</td>\n",
              "      <td>N</td>\n",
              "      <td>2.021030e+13</td>\n",
              "      <td>1.0</td>\n",
              "      <td>2021030323897651</td>\n",
              "      <td>2021030323897651</td>\n",
              "      <td>Y</td>\n",
              "      <td>2777</td>\n",
              "      <td>R15</td>\n",
              "      <td>3D84</td>\n",
              "      <td>1</td>\n",
              "      <td>iNEXBatch</td>\n",
              "      <td>20210303</td>\n",
              "      <td>131425</td>\n",
              "      <td>10.0</td>\n",
              "      <td>N</td>\n",
              "      <td>경기도</td>\n",
              "      <td>광주시</td>\n",
              "      <td>경기도</td>\n",
              "      <td>김포시</td>\n",
              "    </tr>\n",
              "    <tr>\n",
              "      <th>5</th>\n",
              "      <td>KX007</td>\n",
              "      <td>2021030365930451</td>\n",
              "      <td>KX007210303370967</td>\n",
              "      <td>7</td>\n",
              "      <td>20210303</td>\n",
              "      <td>35551</td>\n",
              "      <td>90001341</td>\n",
              "      <td>73700.0</td>\n",
              "      <td>2</td>\n",
              "      <td>2475138283</td>\n",
              "      <td>단일상품</td>\n",
              "      <td>1</td>\n",
              "      <td>15900.0</td>\n",
              "      <td>N</td>\n",
              "      <td>2.021030e+13</td>\n",
              "      <td>1.0</td>\n",
              "      <td>2021030323897661</td>\n",
              "      <td>2021030323897661</td>\n",
              "      <td>Y</td>\n",
              "      <td>2777</td>\n",
              "      <td>R15</td>\n",
              "      <td>3D84</td>\n",
              "      <td>1</td>\n",
              "      <td>iNEXBatch</td>\n",
              "      <td>20210303</td>\n",
              "      <td>131425</td>\n",
              "      <td>10.0</td>\n",
              "      <td>N</td>\n",
              "      <td>경기도</td>\n",
              "      <td>광주시</td>\n",
              "      <td>경기도</td>\n",
              "      <td>김포시</td>\n",
              "    </tr>\n",
              "    <tr>\n",
              "      <th>...</th>\n",
              "      <td>...</td>\n",
              "      <td>...</td>\n",
              "      <td>...</td>\n",
              "      <td>...</td>\n",
              "      <td>...</td>\n",
              "      <td>...</td>\n",
              "      <td>...</td>\n",
              "      <td>...</td>\n",
              "      <td>...</td>\n",
              "      <td>...</td>\n",
              "      <td>...</td>\n",
              "      <td>...</td>\n",
              "      <td>...</td>\n",
              "      <td>...</td>\n",
              "      <td>...</td>\n",
              "      <td>...</td>\n",
              "      <td>...</td>\n",
              "      <td>...</td>\n",
              "      <td>...</td>\n",
              "      <td>...</td>\n",
              "      <td>...</td>\n",
              "      <td>...</td>\n",
              "      <td>...</td>\n",
              "      <td>...</td>\n",
              "      <td>...</td>\n",
              "      <td>...</td>\n",
              "      <td>...</td>\n",
              "      <td>...</td>\n",
              "      <td>...</td>\n",
              "      <td>...</td>\n",
              "      <td>...</td>\n",
              "      <td>...</td>\n",
              "    </tr>\n",
              "    <tr>\n",
              "      <th>309344</th>\n",
              "      <td>KX007</td>\n",
              "      <td>2021040163699601</td>\n",
              "      <td>KX007210401807627</td>\n",
              "      <td>7</td>\n",
              "      <td>20210331</td>\n",
              "      <td>234559</td>\n",
              "      <td>90001582</td>\n",
              "      <td>43600.0</td>\n",
              "      <td>1</td>\n",
              "      <td>4789343708_1</td>\n",
              "      <td>조합형옵션상품</td>\n",
              "      <td>1</td>\n",
              "      <td>43600.0</td>\n",
              "      <td>N</td>\n",
              "      <td>2.021033e+13</td>\n",
              "      <td>1.0</td>\n",
              "      <td>2021040124264101</td>\n",
              "      <td>2021040124264101</td>\n",
              "      <td>Y</td>\n",
              "      <td>L21A</td>\n",
              "      <td>M18</td>\n",
              "      <td>6M31</td>\n",
              "      <td>1</td>\n",
              "      <td>iNEXBatch</td>\n",
              "      <td>20210401</td>\n",
              "      <td>174255</td>\n",
              "      <td>38.0</td>\n",
              "      <td>N</td>\n",
              "      <td>경기도</td>\n",
              "      <td>안산시</td>\n",
              "      <td>경상북도</td>\n",
              "      <td>경주시</td>\n",
              "    </tr>\n",
              "    <tr>\n",
              "      <th>309345</th>\n",
              "      <td>KX007</td>\n",
              "      <td>2021040163729011</td>\n",
              "      <td>KX007210401807628</td>\n",
              "      <td>7</td>\n",
              "      <td>20210331</td>\n",
              "      <td>234749</td>\n",
              "      <td>90001582</td>\n",
              "      <td>26000.0</td>\n",
              "      <td>1</td>\n",
              "      <td>4624612404_16</td>\n",
              "      <td>조합형옵션상품</td>\n",
              "      <td>1</td>\n",
              "      <td>26000.0</td>\n",
              "      <td>N</td>\n",
              "      <td>2.021033e+13</td>\n",
              "      <td>1.0</td>\n",
              "      <td>2021040124312901</td>\n",
              "      <td>2021040124312901</td>\n",
              "      <td>Y</td>\n",
              "      <td>1877</td>\n",
              "      <td>J16</td>\n",
              "      <td>1P45</td>\n",
              "      <td>3</td>\n",
              "      <td>iNEXBatch</td>\n",
              "      <td>20210401</td>\n",
              "      <td>174255</td>\n",
              "      <td>5.0</td>\n",
              "      <td>N</td>\n",
              "      <td>경기도</td>\n",
              "      <td>안산시</td>\n",
              "      <td>서울특별시</td>\n",
              "      <td>송파구</td>\n",
              "    </tr>\n",
              "    <tr>\n",
              "      <th>309346</th>\n",
              "      <td>KX007</td>\n",
              "      <td>2021040163847431</td>\n",
              "      <td>KX007210401807225</td>\n",
              "      <td>7</td>\n",
              "      <td>20210331</td>\n",
              "      <td>235454</td>\n",
              "      <td>90001582</td>\n",
              "      <td>70800.0</td>\n",
              "      <td>1</td>\n",
              "      <td>2012852981_3</td>\n",
              "      <td>조합형옵션상품</td>\n",
              "      <td>1</td>\n",
              "      <td>70800.0</td>\n",
              "      <td>N</td>\n",
              "      <td>2.021033e+13</td>\n",
              "      <td>1.0</td>\n",
              "      <td>2021040124512081</td>\n",
              "      <td>2021040124512081</td>\n",
              "      <td>Y</td>\n",
              "      <td>6114</td>\n",
              "      <td>I73</td>\n",
              "      <td>6N85</td>\n",
              "      <td>0p</td>\n",
              "      <td>iNEXBatch</td>\n",
              "      <td>20210401</td>\n",
              "      <td>174255</td>\n",
              "      <td>49.0</td>\n",
              "      <td>N</td>\n",
              "      <td>경기도</td>\n",
              "      <td>안산시</td>\n",
              "      <td>부산광역시</td>\n",
              "      <td>사하구</td>\n",
              "    </tr>\n",
              "    <tr>\n",
              "      <th>309347</th>\n",
              "      <td>KX007</td>\n",
              "      <td>2021040163863411</td>\n",
              "      <td>KX007210401807629</td>\n",
              "      <td>7</td>\n",
              "      <td>20210331</td>\n",
              "      <td>235554</td>\n",
              "      <td>90001582</td>\n",
              "      <td>19500.0</td>\n",
              "      <td>1</td>\n",
              "      <td>161523952_5</td>\n",
              "      <td>조합형옵션상품</td>\n",
              "      <td>1</td>\n",
              "      <td>19500.0</td>\n",
              "      <td>N</td>\n",
              "      <td>2.021033e+13</td>\n",
              "      <td>1.0</td>\n",
              "      <td>2021040124539761</td>\n",
              "      <td>2021040124539761</td>\n",
              "      <td>Y</td>\n",
              "      <td>M53P</td>\n",
              "      <td>G50</td>\n",
              "      <td>6R69</td>\n",
              "      <td>2p</td>\n",
              "      <td>iNEXBatch</td>\n",
              "      <td>20210401</td>\n",
              "      <td>174255</td>\n",
              "      <td>46.0</td>\n",
              "      <td>N</td>\n",
              "      <td>경기도</td>\n",
              "      <td>안산시</td>\n",
              "      <td>부산광역시</td>\n",
              "      <td>북구</td>\n",
              "    </tr>\n",
              "    <tr>\n",
              "      <th>309348</th>\n",
              "      <td>KX007</td>\n",
              "      <td>2021040163894031</td>\n",
              "      <td>KX007210401807630</td>\n",
              "      <td>7</td>\n",
              "      <td>20210331</td>\n",
              "      <td>235800</td>\n",
              "      <td>90001582</td>\n",
              "      <td>43600.0</td>\n",
              "      <td>1</td>\n",
              "      <td>4789343708_3</td>\n",
              "      <td>조합형옵션상품</td>\n",
              "      <td>1</td>\n",
              "      <td>43600.0</td>\n",
              "      <td>N</td>\n",
              "      <td>2.021033e+13</td>\n",
              "      <td>1.0</td>\n",
              "      <td>2021040124590951</td>\n",
              "      <td>2021040124590951</td>\n",
              "      <td>Y</td>\n",
              "      <td>6877</td>\n",
              "      <td>F55</td>\n",
              "      <td>6N21</td>\n",
              "      <td>2p</td>\n",
              "      <td>iNEXBatch</td>\n",
              "      <td>20210401</td>\n",
              "      <td>174255</td>\n",
              "      <td>49.0</td>\n",
              "      <td>N</td>\n",
              "      <td>경기도</td>\n",
              "      <td>안산시</td>\n",
              "      <td>부산광역시</td>\n",
              "      <td>서구</td>\n",
              "    </tr>\n",
              "  </tbody>\n",
              "</table>\n",
              "<p>279851 rows × 32 columns</p>\n",
              "</div>"
            ],
            "text/plain": [
              "       CORP_ID        REF_ORD_NO  ... CNEE_ADDR_1  CNEE_ADDR_2\n",
              "1        KX007  2021030365922951  ...        경상남도          김해시\n",
              "2        KX007  2021030365924361  ...        경상남도          거제시\n",
              "3        KX007  2021030365928921  ...       서울특별시          서초구\n",
              "4        KX007  2021030365930451  ...         경기도          김포시\n",
              "5        KX007  2021030365930451  ...         경기도          김포시\n",
              "...        ...               ...  ...         ...          ...\n",
              "309344   KX007  2021040163699601  ...        경상북도          경주시\n",
              "309345   KX007  2021040163729011  ...       서울특별시          송파구\n",
              "309346   KX007  2021040163847431  ...       부산광역시          사하구\n",
              "309347   KX007  2021040163863411  ...       부산광역시           북구\n",
              "309348   KX007  2021040163894031  ...       부산광역시           서구\n",
              "\n",
              "[279851 rows x 32 columns]"
            ]
          },
          "metadata": {},
          "execution_count": 6
        }
      ]
    },
    {
      "cell_type": "code",
      "metadata": {
        "colab": {
          "base_uri": "https://localhost:8080/"
        },
        "id": "y7Y5XVk0IVIV",
        "outputId": "e4050119-9f3e-4609-ba48-4966d4369efa"
      },
      "source": [
        "march['BRAND_NM']"
      ],
      "execution_count": null,
      "outputs": [
        {
          "output_type": "execute_result",
          "data": {
            "text/plain": [
              "1         조합형옵션상품\n",
              "2         조합형옵션상품\n",
              "3         조합형옵션상품\n",
              "4            단일상품\n",
              "5            단일상품\n",
              "           ...   \n",
              "309344    조합형옵션상품\n",
              "309345    조합형옵션상품\n",
              "309346    조합형옵션상품\n",
              "309347    조합형옵션상품\n",
              "309348    조합형옵션상품\n",
              "Name: BRAND_NM, Length: 279851, dtype: object"
            ]
          },
          "metadata": {},
          "execution_count": 47
        }
      ]
    },
    {
      "cell_type": "code",
      "metadata": {
        "colab": {
          "base_uri": "https://localhost:8080/"
        },
        "id": "1oFxBPNgu-_C",
        "outputId": "5ad18279-73ec-415d-88d6-9f5756f76f74"
      },
      "source": [
        "L_encoder = LabelEncoder()\n",
        "L_encoder.fit(march['BRAND_NM'])\n",
        "march['BRAND_NM'] = L_encoder.transform(march['BRAND_NM'])"
      ],
      "execution_count": null,
      "outputs": [
        {
          "output_type": "stream",
          "name": "stderr",
          "text": [
            "/usr/local/lib/python3.7/dist-packages/ipykernel_launcher.py:3: SettingWithCopyWarning: \n",
            "A value is trying to be set on a copy of a slice from a DataFrame.\n",
            "Try using .loc[row_indexer,col_indexer] = value instead\n",
            "\n",
            "See the caveats in the documentation: https://pandas.pydata.org/pandas-docs/stable/user_guide/indexing.html#returning-a-view-versus-a-copy\n",
            "  This is separate from the ipykernel package so we can avoid doing imports until\n"
          ]
        }
      ]
    },
    {
      "cell_type": "code",
      "metadata": {
        "colab": {
          "base_uri": "https://localhost:8080/",
          "height": 387
        },
        "id": "G1keCMUAu7h7",
        "outputId": "81d9456e-e9de-48c3-a9a8-3f878f807b57"
      },
      "source": [
        "sns.displot(march['ITEM_QTY'])"
      ],
      "execution_count": null,
      "outputs": [
        {
          "output_type": "execute_result",
          "data": {
            "text/plain": [
              "<seaborn.axisgrid.FacetGrid at 0x7f9fc54d8f50>"
            ]
          },
          "metadata": {},
          "execution_count": 52
        },
        {
          "output_type": "display_data",
          "data": {
            "image/png": "[encoded data removed]",
            "text/plain": [
              "<Figure size 360x360 with 1 Axes>"
            ]
          },
          "metadata": {
            "needs_background": "light"
          }
        }
      ]
    },
    {
      "cell_type": "code",
      "metadata": {
        "colab": {
          "base_uri": "https://localhost:8080/",
          "height": 338
        },
        "id": "QGcgVZmHI9aO",
        "outputId": "4056910d-b4f1-445c-d446-a587853ca05b"
      },
      "source": [
        "plt.plot(march['BRAND_NM'], march['ITEM_QTY'], 'o')\n",
        "plt.show()\n",
        "print(march['BRAND_NM'].value_counts()) # 적어도 3월엔 3개의 종류의 상품만 존재함."
      ],
      "execution_count": null,
      "outputs": [
        {
          "output_type": "display_data",
          "data": {
            "image/png": "[encoded data removed]",
            "text/plain": [
              "<Figure size 432x288 with 1 Axes>"
            ]
          },
          "metadata": {
            "needs_background": "light"
          }
        },
        {
          "output_type": "stream",
          "name": "stdout",
          "text": [
            "1    231851\n",
            "0     47417\n",
            "2       583\n",
            "Name: BRAND_NM, dtype: int64\n"
          ]
        }
      ]
    },
    {
      "cell_type": "code",
      "metadata": {
        "colab": {
          "base_uri": "https://localhost:8080/",
          "height": 669
        },
        "id": "oIVazZGBJAt_",
        "outputId": "2d392bcc-52bf-481d-d761-a90e8ae404cf"
      },
      "source": [
        "plt.plot(march['ITEM_SEQ'], march['ITEM_QTY'], 'o')\n",
        "plt.show()\n",
        "print(march['ITEM_SEQ'].value_counts())\n",
        "# 시퀀스 값에 따라서 현저히 감소하는 추세를 확인할 수 있음!"
      ],
      "execution_count": null,
      "outputs": [
        {
          "output_type": "display_data",
          "data": {
            "image/png": "[encoded data removed]",
            "text/plain": [
              "<Figure size 432x288 with 1 Axes>"
            ]
          },
          "metadata": {
            "needs_background": "light"
          }
        },
        {
          "output_type": "stream",
          "name": "stdout",
          "text": [
            "1     218001\n",
            "2      36433\n",
            "3      14233\n",
            "4       6026\n",
            "5       2435\n",
            "6       1234\n",
            "7        734\n",
            "8        395\n",
            "9        141\n",
            "10        76\n",
            "11        49\n",
            "12        33\n",
            "13        22\n",
            "14        12\n",
            "15         9\n",
            "16         6\n",
            "17         4\n",
            "18         3\n",
            "20         2\n",
            "19         2\n",
            "21         1\n",
            "Name: ITEM_SEQ, dtype: int64\n"
          ]
        }
      ]
    },
    {
      "cell_type": "code",
      "metadata": {
        "colab": {
          "base_uri": "https://localhost:8080/",
          "height": 265
        },
        "id": "aGHabNbKKDff",
        "outputId": "0c9dd66d-c513-45fc-fb2b-f9e79daad7ca"
      },
      "source": [
        "plt.plot(np.log(march['ITEM_AMT']), march['ITEM_QTY'], 'o')\n",
        "plt.show()\n",
        "# 가격 스케일이 커서 로그를 씌우고 실행시킴.\n",
        "# 전반적으로 가격이 커질수록 배송할 제품의 양이 커지는 효과를 볼 수 있음.\n",
        " "
      ],
      "execution_count": null,
      "outputs": [
        {
          "output_type": "display_data",
          "data": {
            "image/png": "[encoded data removed]",
            "text/plain": [
              "<Figure size 432x288 with 1 Axes>"
            ]
          },
          "metadata": {
            "needs_background": "light"
          }
        }
      ]
    },
    {
      "cell_type": "code",
      "metadata": {
        "colab": {
          "base_uri": "https://localhost:8080/",
          "height": 265
        },
        "id": "ZWMziCWdKmHp",
        "outputId": "6787e646-eff8-4cc7-94e1-80cf4b10b6df"
      },
      "source": [
        "plt.plot(np.log(march['INV_AMT']), march['ITEM_QTY'], 'o')\n",
        "plt.show()"
      ],
      "execution_count": null,
      "outputs": [
        {
          "output_type": "display_data",
          "data": {
            "image/png": "[encoded data removed]",
            "text/plain": [
              "<Figure size 432x288 with 1 Axes>"
            ]
          },
          "metadata": {
            "needs_background": "light"
          }
        }
      ]
    },
    {
      "cell_type": "code",
      "metadata": {
        "colab": {
          "base_uri": "https://localhost:8080/",
          "height": 374
        },
        "id": "wy78XUCyKr0O",
        "outputId": "6574e68b-7f91-4f32-e7b7-7d3ac08afcd3"
      },
      "source": [
        "plt.figure(figsize = (12,6))\n",
        "plt.subplot(1,2,1)\n",
        "plt.plot(np.log(march['INV_AMT']), np.log(march['ITEM_AMT']), 'o')\n",
        "plt.xlim(5, 21)\n",
        "plt.ylim(5, 21)\n",
        "plt.subplot(1,2,2)\n",
        "plt.plot(np.log(march['INV_AMT']), np.log(march['ITEM_AMT'] * march['ITEM_QTY']), 'o')\n",
        "plt.xlim(5, 21)\n",
        "plt.ylim(5, 21)\n",
        "plt.show()\n",
        "plt.show()\n",
        "# 혹시 몰라서 주문 금액과 품목 금액에 대한 EDA를 해봤는데, 대략적으로 품목 금액은 주문 금액과 비례하는 성질을 가짐.\n",
        "# 그리고 혹시나 해서 품목금액과 수량의 곱을 적용해 보았지만, 기존의 것이 더 설득력있는 분석임을 확인함.\n",
        "# 그런데 주문금액과 품목 금액간 차이가 나는 이유는? 대체적으로 주문금액 > 품목금액이지만, 그렇지 않은 케이스도 존재함."
      ],
      "execution_count": null,
      "outputs": [
        {
          "output_type": "display_data",
          "data": {
            "image/png": "[encoded data removed]",
            "text/plain": [
              "<Figure size 864x432 with 2 Axes>"
            ]
          },
          "metadata": {
            "needs_background": "light"
          }
        }
      ]
    },
    {
      "cell_type": "code",
      "metadata": {
        "colab": {
          "base_uri": "https://localhost:8080/",
          "height": 265
        },
        "id": "zZ8ENUHZK-L7",
        "outputId": "4eaf953a-acf3-48cb-a429-c3ef3ec02e8d"
      },
      "source": [
        "plt.plot(np.log(march['INV_AMT']), np.log(march['ITEM_AMT'] * march['ITEM_QTY']), 'o')\n",
        "plt.xlim(5, 21)\n",
        "plt.ylim(5, 21)\n",
        "plt.show()\n",
        "# 혹시 몰라서 주문 금액과 품목 금액에 대한 EDA를 해봤는데, 대략적으로 "
      ],
      "execution_count": null,
      "outputs": [
        {
          "output_type": "display_data",
          "data": {
            "image/png": "[encoded data removed]",
            "text/plain": [
              "<Figure size 432x288 with 1 Axes>"
            ]
          },
          "metadata": {
            "needs_background": "light"
          }
        }
      ]
    },
    {
      "cell_type": "code",
      "metadata": {
        "id": "3yuzMoVfb0SO",
        "colab": {
          "base_uri": "https://localhost:8080/"
        },
        "outputId": "8f66f595-4452-4027-ba2c-137d7601c7e3"
      },
      "source": [
        "march['SHPR_CD'].value_counts()"
      ],
      "execution_count": null,
      "outputs": [
        {
          "output_type": "execute_result",
          "data": {
            "text/plain": [
              "90001302    96484\n",
              "90001542    47141\n",
              "90001341    39549\n",
              "90001541    32932\n",
              "90001441    30209\n",
              "90001443    21819\n",
              "90001521     8802\n",
              "90001381     2739\n",
              "90001582      176\n",
              "Name: SHPR_CD, dtype: int64"
            ]
          },
          "metadata": {},
          "execution_count": 97
        }
      ]
    },
    {
      "cell_type": "code",
      "metadata": {
        "colab": {
          "base_uri": "https://localhost:8080/",
          "height": 283
        },
        "id": "GFBjeLudMhxb",
        "outputId": "ce37c15b-1e32-4ff8-d61b-27a4cc6c0f1e"
      },
      "source": [
        "k = march['SHPR_CD'] - march['SHPR_CD'].min()\n",
        "plt.plot(k, march['ITEM_QTY'], 'o')\n",
        "# 고객사 코드를 통한 eda, 확실히 고객사 별로 데이터 수도 다르고 분포 또한 다름을 알 수 있음. \n",
        "# 특히 특정 고객사의 주문량이 폭주하는 모습을 볼 수 있다. "
      ],
      "execution_count": null,
      "outputs": [
        {
          "output_type": "execute_result",
          "data": {
            "text/plain": [
              "[<matplotlib.lines.Line2D at 0x7f9fbee32cd0>]"
            ]
          },
          "metadata": {},
          "execution_count": 92
        },
        {
          "output_type": "display_data",
          "data": {
            "image/png": "[encoded data removed]",
            "text/plain": [
              "<Figure size 432x288 with 1 Axes>"
            ]
          },
          "metadata": {
            "needs_background": "light"
          }
        }
      ]
    },
    {
      "cell_type": "code",
      "metadata": {
        "colab": {
          "base_uri": "https://localhost:8080/"
        },
        "id": "5Abva3NxNVxp",
        "outputId": "696c5d94-02a6-455d-b734-e7c0531c18a2"
      },
      "source": [
        "march['ITEM_CD'].value_counts() # 주문 코드가 동일한 주문이 많다? 한번에 배송을 하는 것을 의미하는 걸까?"
      ],
      "execution_count": null,
      "outputs": [
        {
          "output_type": "execute_result",
          "data": {
            "text/plain": [
              "1486    9688\n",
              "1223    3479\n",
              "1224    3281\n",
              "4692    2833\n",
              "4826    2833\n",
              "        ... \n",
              "2864       1\n",
              "817        1\n",
              "4046       1\n",
              "3534       1\n",
              "0          1\n",
              "Name: ITEM_CD, Length: 5320, dtype: int64"
            ]
          },
          "metadata": {},
          "execution_count": 95
        }
      ]
    },
    {
      "cell_type": "code",
      "metadata": {
        "colab": {
          "base_uri": "https://localhost:8080/"
        },
        "id": "s6AB7wPqNuiR",
        "outputId": "63bab249-0099-414d-f525-ae7c2c10d390"
      },
      "source": [
        "L_encoder = LabelEncoder()\n",
        "L_encoder.fit(march['ITEM_CD'])\n",
        "march['ITEM_CD'] = L_encoder.transform(march['ITEM_CD'])"
      ],
      "execution_count": null,
      "outputs": [
        {
          "output_type": "stream",
          "name": "stderr",
          "text": [
            "/usr/local/lib/python3.7/dist-packages/ipykernel_launcher.py:3: SettingWithCopyWarning: \n",
            "A value is trying to be set on a copy of a slice from a DataFrame.\n",
            "Try using .loc[row_indexer,col_indexer] = value instead\n",
            "\n",
            "See the caveats in the documentation: https://pandas.pydata.org/pandas-docs/stable/user_guide/indexing.html#returning-a-view-versus-a-copy\n",
            "  This is separate from the ipykernel package so we can avoid doing imports until\n"
          ]
        }
      ]
    },
    {
      "cell_type": "code",
      "metadata": {
        "colab": {
          "base_uri": "https://localhost:8080/"
        },
        "id": "kvhz7x4mN3P9",
        "outputId": "084fb1e9-69c5-4718-b555-347248ff7752"
      },
      "source": [
        "march['ITEM_CD'].value_counts()"
      ],
      "execution_count": null,
      "outputs": [
        {
          "output_type": "execute_result",
          "data": {
            "text/plain": [
              "1486    9688\n",
              "1223    3479\n",
              "1224    3281\n",
              "4692    2833\n",
              "4826    2833\n",
              "        ... \n",
              "2864       1\n",
              "817        1\n",
              "4046       1\n",
              "3534       1\n",
              "0          1\n",
              "Name: ITEM_CD, Length: 5320, dtype: int64"
            ]
          },
          "metadata": {},
          "execution_count": 86
        }
      ]
    },
    {
      "cell_type": "code",
      "metadata": {
        "colab": {
          "base_uri": "https://localhost:8080/",
          "height": 283
        },
        "id": "fF3_kh8aN0hg",
        "outputId": "1fadce0b-7b68-4731-bc75-8b65c62e5c8e"
      },
      "source": [
        "plt.plot(march['ITEM_CD'], march['ITEM_QTY'], 'o')\n",
        "# 주문코드 별로 분포가 상이하게 다른? 모습을 볼 수 있다. 좀 더 자세히 볼 필요가 있을것 같다."
      ],
      "execution_count": null,
      "outputs": [
        {
          "output_type": "execute_result",
          "data": {
            "text/plain": [
              "[<matplotlib.lines.Line2D at 0x7f9fbf015050>]"
            ]
          },
          "metadata": {},
          "execution_count": 93
        },
        {
          "output_type": "display_data",
          "data": {
            "image/png": "[encoded data removed]",
            "text/plain": [
              "<Figure size 432x288 with 1 Axes>"
            ]
          },
          "metadata": {
            "needs_background": "light"
          }
        }
      ]
    },
    {
      "cell_type": "code",
      "metadata": {
        "colab": {
          "base_uri": "https://localhost:8080/",
          "height": 374
        },
        "id": "Fu7TdehTOCR-",
        "outputId": "5574f2ca-939b-4b6c-cf16-2b4a4d3954cd"
      },
      "source": [
        "plt.figure(figsize = (30,6))\n",
        "plt.subplot(1,5,1)\n",
        "plt.plot(march['ITEM_CD'], march['ITEM_QTY'], 'o')\n",
        "plt.xlim(0, 1000)\n",
        "plt.subplot(1,5,2)\n",
        "plt.plot(march['ITEM_CD'], march['ITEM_QTY'], 'o')\n",
        "plt.xlim(1000, 2000)\n",
        "plt.subplot(1,5,3)\n",
        "plt.plot(march['ITEM_CD'], march['ITEM_QTY'], 'o')\n",
        "plt.xlim(2000, 3000)\n",
        "plt.subplot(1,5,4)\n",
        "plt.plot(march['ITEM_CD'], march['ITEM_QTY'], 'o')\n",
        "plt.xlim(3000, 4000)\n",
        "plt.subplot(1,5,5)\n",
        "plt.plot(march['ITEM_CD'], march['ITEM_QTY'], 'o')\n",
        "plt.xlim(4000, march['ITEM_CD'].max())\n",
        "plt.show()\n",
        "# 주문 코드별 수량을 봤는데, 특정 주문 코드에서 주문이 폭발적으로 증가.\n",
        "# 아마도 고객사와 연계하면 더 좋게 될지도? \n",
        "# 하지만 주문코드는 주문할 때마다 달라지지 않을까? 그러면 의미가 퇴색될 가능성이 높아질 것이다."
      ],
      "execution_count": null,
      "outputs": [
        {
          "output_type": "display_data",
          "data": {
            "image/png": "[encoded data removed]",
            "text/plain": [
              "<Figure size 2160x432 with 5 Axes>"
            ]
          },
          "metadata": {
            "needs_background": "light"
          }
        }
      ]
    },
    {
      "cell_type": "markdown",
      "metadata": {
        "id": "4UODBoe0bWk3"
      },
      "source": [
        "# groupby 를 써서 휴일 / 평일 나눠서 eda를 해봅시다!"
      ]
    },
    {
      "cell_type": "code",
      "metadata": {
        "id": "cPfaPPEebWOA",
        "colab": {
          "base_uri": "https://localhost:8080/"
        },
        "outputId": "e2763e8b-b8c2-474f-f3c9-b65cd73bcd8e"
      },
      "source": [
        "march['BKG_DATE'].value_counts() # 적어도 3월엔 3개의 종류의 상품만 존재함."
      ],
      "execution_count": null,
      "outputs": [
        {
          "output_type": "execute_result",
          "data": {
            "text/plain": [
              "20210323    29299\n",
              "20210322    20724\n",
              "20210303    12825\n",
              "20210305    12225\n",
              "20210329    11121\n",
              "20210302    10996\n",
              "20210331     9549\n",
              "20210304     9510\n",
              "20210316     9384\n",
              "20210326     9135\n",
              "20210324     8674\n",
              "20210325     8632\n",
              "20210328     8480\n",
              "20210330     8250\n",
              "20210314     7949\n",
              "20210301     7893\n",
              "20210321     7757\n",
              "20210315     7302\n",
              "20210327     7301\n",
              "20210308     7110\n",
              "20210311     6693\n",
              "20210309     6598\n",
              "20210317     6586\n",
              "20210310     6304\n",
              "20210319     6026\n",
              "20210307     5970\n",
              "20210318     5926\n",
              "20210313     5552\n",
              "20210312     5506\n",
              "20210320     5476\n",
              "20210306     5098\n",
              "Name: BKG_DATE, dtype: int64"
            ]
          },
          "metadata": {},
          "execution_count": 10
        }
      ]
    },
    {
      "cell_type": "code",
      "metadata": {
        "colab": {
          "base_uri": "https://localhost:8080/"
        },
        "id": "1dlezgOgAvvF",
        "outputId": "f842a0d1-181c-4cdd-fe46-699af307ebd6"
      },
      "source": [
        "march['BKG_DATE'].astype(str).str[6:].astype(int)"
      ],
      "execution_count": null,
      "outputs": [
        {
          "output_type": "execute_result",
          "data": {
            "text/plain": [
              "1          3\n",
              "2          3\n",
              "3          3\n",
              "4          3\n",
              "5          3\n",
              "          ..\n",
              "309344    31\n",
              "309345    31\n",
              "309346    31\n",
              "309347    31\n",
              "309348    31\n",
              "Name: BKG_DATE, Length: 279851, dtype: int64"
            ]
          },
          "metadata": {},
          "execution_count": 23
        }
      ]
    },
    {
      "cell_type": "code",
      "metadata": {
        "colab": {
          "base_uri": "https://localhost:8080/"
        },
        "id": "4-ba_mdFCexc",
        "outputId": "83e3d927-1fad-4781-d159-86198c310cda"
      },
      "source": [
        "march['day'].value_counts()"
      ],
      "execution_count": null,
      "outputs": [
        {
          "output_type": "execute_result",
          "data": {
            "text/plain": [
              "23    29299\n",
              "22    20724\n",
              "3     12825\n",
              "5     12225\n",
              "29    11121\n",
              "2     10996\n",
              "31     9549\n",
              "4      9510\n",
              "16     9384\n",
              "26     9135\n",
              "24     8674\n",
              "25     8632\n",
              "28     8480\n",
              "30     8250\n",
              "14     7949\n",
              "1      7893\n",
              "21     7757\n",
              "15     7302\n",
              "27     7301\n",
              "8      7110\n",
              "11     6693\n",
              "9      6598\n",
              "17     6586\n",
              "10     6304\n",
              "19     6026\n",
              "7      5970\n",
              "18     5926\n",
              "13     5552\n",
              "12     5506\n",
              "20     5476\n",
              "6      5098\n",
              "Name: day, dtype: int64"
            ]
          },
          "metadata": {},
          "execution_count": 43
        }
      ]
    },
    {
      "cell_type": "code",
      "metadata": {
        "id": "TWbW_5nAAnq5"
      },
      "source": [
        "march['year'] = march['BKG_DATE'].astype(str).str[0:4].astype(int)\n",
        "march['month'] = march['BKG_DATE'].astype(str).str[4:6].astype(int)\n",
        "march['day'] = march['BKG_DATE'].astype(str).str[6:].astype(int)"
      ],
      "execution_count": null,
      "outputs": []
    },
    {
      "cell_type": "code",
      "metadata": {
        "id": "lhsu9orhCWxZ"
      },
      "source": [
        "march['weekend'] = march['day'].apply(lambda x : 1 if x % 7 == 6 else (1 if x % 7 == 0 else 0))"
      ],
      "execution_count": null,
      "outputs": []
    },
    {
      "cell_type": "code",
      "metadata": {
        "id": "IILw3C1kFSNZ"
      },
      "source": [
        "march['holiday'] = march['day'].apply(lambda x : 1 if x == 1 else 0)"
      ],
      "execution_count": null,
      "outputs": []
    },
    {
      "cell_type": "code",
      "metadata": {
        "colab": {
          "base_uri": "https://localhost:8080/"
        },
        "id": "4mI03gh2CWvA",
        "outputId": "ad67450a-6b29-45b7-f55a-8a10a00695c4"
      },
      "source": [
        "print(march['weekend'].value_counts())\n",
        "print(march['holiday'].value_counts())"
      ],
      "execution_count": null,
      "outputs": [
        {
          "output_type": "stream",
          "name": "stdout",
          "text": [
            "0    226268\n",
            "1     53583\n",
            "Name: weekend, dtype: int64\n",
            "0    271958\n",
            "1      7893\n",
            "Name: holiday, dtype: int64\n"
          ]
        }
      ]
    },
    {
      "cell_type": "code",
      "metadata": {
        "colab": {
          "base_uri": "https://localhost:8080/",
          "height": 483
        },
        "id": "w0EzMMMtCWoH",
        "outputId": "3d90b55d-d188-4938-e0c7-a2c9360d325d"
      },
      "source": [
        "plt.figure(figsize = (48,8))\n",
        "plt.subplot(1,5,1)\n",
        "plt.title('day plot')\n",
        "plt.plot(march['day'], march['ITEM_QTY'], 'o')\n",
        "plt.subplot(1,5,2)\n",
        "plt.title('day plot')\n",
        "plt.plot(march['weekend'], march['ITEM_QTY'], 'o')\n",
        "plt.subplot(1,5,3)\n",
        "plt.title('holiday plot')\n",
        "plt.plot(march['holiday'], march['ITEM_QTY'], 'o')"
      ],
      "execution_count": null,
      "outputs": [
        {
          "output_type": "execute_result",
          "data": {
            "text/plain": [
              "[<matplotlib.lines.Line2D at 0x7f51b3f37310>]"
            ]
          },
          "metadata": {},
          "execution_count": 53
        },
        {
          "output_type": "display_data",
          "data": {
            "image/png": "[encoded data removed]",
            "text/plain": [
              "<Figure size 3456x576 with 3 Axes>"
            ]
          },
          "metadata": {
            "needs_background": "light"
          }
        }
      ]
    },
    {
      "cell_type": "code",
      "metadata": {
        "colab": {
          "base_uri": "https://localhost:8080/",
          "height": 162
        },
        "id": "4dTmsJQoLXtH",
        "outputId": "d743bcad-5441-46c5-c02f-a59ab96299b1"
      },
      "source": [
        "march.groupby('weekend').mean()"
      ],
      "execution_count": null,
      "outputs": [
        {
          "output_type": "execute_result",
          "data": {
            "text/html": [
              "<div>\n",
              "<style scoped>\n",
              "    .dataframe tbody tr th:only-of-type {\n",
              "        vertical-align: middle;\n",
              "    }\n",
              "\n",
              "    .dataframe tbody tr th {\n",
              "        vertical-align: top;\n",
              "    }\n",
              "\n",
              "    .dataframe thead th {\n",
              "        text-align: right;\n",
              "    }\n",
              "</style>\n",
              "<table border=\"1\" class=\"dataframe\">\n",
              "  <thead>\n",
              "    <tr style=\"text-align: right;\">\n",
              "      <th></th>\n",
              "      <th>BKG_TYP</th>\n",
              "      <th>BKG_DATE</th>\n",
              "      <th>BKG_TIME</th>\n",
              "      <th>SHPR_CD</th>\n",
              "      <th>INV_AMT</th>\n",
              "      <th>ITEM_SEQ</th>\n",
              "      <th>ITEM_QTY</th>\n",
              "      <th>ITEM_AMT</th>\n",
              "      <th>ORDER_CRT_DATETIME</th>\n",
              "      <th>DLV_DV</th>\n",
              "      <th>INS_DATE</th>\n",
              "      <th>INS_TIME</th>\n",
              "      <th>POST_ZONE</th>\n",
              "      <th>month</th>\n",
              "      <th>day</th>\n",
              "      <th>year</th>\n",
              "      <th>holiday</th>\n",
              "      <th>monday</th>\n",
              "      <th>tuesday</th>\n",
              "      <th>wednesday</th>\n",
              "      <th>thursday</th>\n",
              "      <th>friday</th>\n",
              "      <th>saturday</th>\n",
              "      <th>sunday</th>\n",
              "      <th>1st_week</th>\n",
              "      <th>2nd_week</th>\n",
              "      <th>3rd_week</th>\n",
              "      <th>4th_week</th>\n",
              "      <th>last_week</th>\n",
              "    </tr>\n",
              "    <tr>\n",
              "      <th>weekend</th>\n",
              "      <th></th>\n",
              "      <th></th>\n",
              "      <th></th>\n",
              "      <th></th>\n",
              "      <th></th>\n",
              "      <th></th>\n",
              "      <th></th>\n",
              "      <th></th>\n",
              "      <th></th>\n",
              "      <th></th>\n",
              "      <th></th>\n",
              "      <th></th>\n",
              "      <th></th>\n",
              "      <th></th>\n",
              "      <th></th>\n",
              "      <th></th>\n",
              "      <th></th>\n",
              "      <th></th>\n",
              "      <th></th>\n",
              "      <th></th>\n",
              "      <th></th>\n",
              "      <th></th>\n",
              "      <th></th>\n",
              "      <th></th>\n",
              "      <th></th>\n",
              "      <th></th>\n",
              "      <th></th>\n",
              "      <th></th>\n",
              "      <th></th>\n",
              "    </tr>\n",
              "  </thead>\n",
              "  <tbody>\n",
              "    <tr>\n",
              "      <th>0</th>\n",
              "      <td>7.0</td>\n",
              "      <td>2.021032e+07</td>\n",
              "      <td>94234.035997</td>\n",
              "      <td>9.000141e+07</td>\n",
              "      <td>56942.850602</td>\n",
              "      <td>1.401347</td>\n",
              "      <td>1.310464</td>\n",
              "      <td>39782.067416</td>\n",
              "      <td>2.021032e+13</td>\n",
              "      <td>1.0</td>\n",
              "      <td>2.021032e+07</td>\n",
              "      <td>145590.623619</td>\n",
              "      <td>25.365332</td>\n",
              "      <td>3.0</td>\n",
              "      <td>16.514218</td>\n",
              "      <td>2021.0</td>\n",
              "      <td>0.034883</td>\n",
              "      <td>0.239318</td>\n",
              "      <td>0.28518</td>\n",
              "      <td>0.194186</td>\n",
              "      <td>0.135949</td>\n",
              "      <td>0.145367</td>\n",
              "      <td>0.00000</td>\n",
              "      <td>0.00000</td>\n",
              "      <td>0.236220</td>\n",
              "      <td>0.142358</td>\n",
              "      <td>0.155674</td>\n",
              "      <td>0.337936</td>\n",
              "      <td>0.206335</td>\n",
              "    </tr>\n",
              "    <tr>\n",
              "      <th>1</th>\n",
              "      <td>7.0</td>\n",
              "      <td>2.021032e+07</td>\n",
              "      <td>97023.010843</td>\n",
              "      <td>9.000141e+07</td>\n",
              "      <td>58330.958513</td>\n",
              "      <td>1.349999</td>\n",
              "      <td>1.293451</td>\n",
              "      <td>43707.375660</td>\n",
              "      <td>2.021032e+13</td>\n",
              "      <td>1.0</td>\n",
              "      <td>2.021032e+07</td>\n",
              "      <td>143132.563724</td>\n",
              "      <td>24.999142</td>\n",
              "      <td>3.0</td>\n",
              "      <td>17.968833</td>\n",
              "      <td>2021.0</td>\n",
              "      <td>0.000000</td>\n",
              "      <td>0.000000</td>\n",
              "      <td>0.00000</td>\n",
              "      <td>0.000000</td>\n",
              "      <td>0.000000</td>\n",
              "      <td>0.000000</td>\n",
              "      <td>0.43721</td>\n",
              "      <td>0.56279</td>\n",
              "      <td>0.206558</td>\n",
              "      <td>0.251964</td>\n",
              "      <td>0.246963</td>\n",
              "      <td>0.294515</td>\n",
              "      <td>0.294515</td>\n",
              "    </tr>\n",
              "  </tbody>\n",
              "</table>\n",
              "</div>"
            ],
            "text/plain": [
              "         BKG_TYP      BKG_DATE      BKG_TIME  ...  3rd_week  4th_week  last_week\n",
              "weekend                                       ...                               \n",
              "0            7.0  2.021032e+07  94234.035997  ...  0.155674  0.337936   0.206335\n",
              "1            7.0  2.021032e+07  97023.010843  ...  0.246963  0.294515   0.294515\n",
              "\n",
              "[2 rows x 29 columns]"
            ]
          },
          "metadata": {},
          "execution_count": 69
        }
      ]
    },
    {
      "cell_type": "code",
      "metadata": {
        "id": "QO0wB4ifGhlr"
      },
      "source": [
        "march['monday'] = march['day'].apply(lambda x : 1 if x % 7 == 1 else 0)\n",
        "march['tuesday'] = march['day'].apply(lambda x : 1 if x % 7 == 2 else 0)\n",
        "march['wednesday'] = march['day'].apply(lambda x : 1 if x % 7 == 3 else 0)\n",
        "march['thursday'] = march['day'].apply(lambda x : 1 if x % 7 == 4 else 0)\n",
        "march['friday'] = march['day'].apply(lambda x : 1 if x % 7 == 5 else 0)\n",
        "march['saturday'] = march['day'].apply(lambda x : 1 if x % 7 == 6 else 0)\n",
        "march['sunday'] = march['day'].apply(lambda x : 1 if x % 7 == 0 else 0)"
      ],
      "execution_count": null,
      "outputs": []
    },
    {
      "cell_type": "code",
      "metadata": {
        "colab": {
          "base_uri": "https://localhost:8080/",
          "height": 478
        },
        "id": "8J_0yHcWGhjZ",
        "outputId": "05ecd804-7afb-4954-e30a-8915411b11c3"
      },
      "source": [
        "plt.figure(figsize = (35,10))\n",
        "plt.subplot(1,7,1)\n",
        "plt.title('monday plot')\n",
        "plt.plot(march['monday'], march['ITEM_QTY'], 'o')\n",
        "plt.subplot(1,7,2)\n",
        "plt.title('tuesday plot')\n",
        "plt.plot(march['tuesday'], march['ITEM_QTY'], 'o')\n",
        "plt.subplot(1,7,3)\n",
        "plt.title('wednesday plot')\n",
        "plt.plot(march['wednesday'], march['ITEM_QTY'], 'o')\n",
        "plt.subplot(1,7,4)\n",
        "plt.title('thursday plot')\n",
        "plt.plot(march['thursday'], march['ITEM_QTY'], 'o')\n",
        "plt.subplot(1,7,5)\n",
        "plt.title('friday plot')\n",
        "plt.plot(march['friday'], march['ITEM_QTY'], 'o')\n",
        "plt.subplot(1,7,6)\n",
        "plt.title('saturday plot')\n",
        "plt.plot(march['saturday'], march['ITEM_QTY'], 'o')\n",
        "plt.subplot(1,7,7)\n",
        "plt.title('sunday plot')\n",
        "plt.plot(march['sunday'], march['ITEM_QTY'], 'o')"
      ],
      "execution_count": null,
      "outputs": [
        {
          "output_type": "execute_result",
          "data": {
            "text/plain": [
              "[<matplotlib.lines.Line2D at 0x7f51b601d110>]"
            ]
          },
          "metadata": {},
          "execution_count": 60
        },
        {
          "output_type": "display_data",
          "data": {
            "image/png": "[encoded data removed]",
            "text/plain": [
              "<Figure size 2520x720 with 7 Axes>"
            ]
          },
          "metadata": {
            "needs_background": "light"
          }
        }
      ]
    },
    {
      "cell_type": "code",
      "metadata": {
        "id": "ltNNCJsxH02r"
      },
      "source": [
        "march['1st_week'] = march['day'].apply(lambda x : 1 if x <= 7 else 0)\n",
        "march['2nd_week'] = march['day'].apply(lambda x : 1 if 8 <= x <= 14 else 0)\n",
        "march['3rd_week'] = march['day'].apply(lambda x : 1 if 15 <= x <= 21 else 0)\n",
        "march['4th_week'] = march['day'].apply(lambda x : 1 if 22 <= x <= 28 else 0)\n",
        "march['last_week'] = march['day'].apply(lambda x : 1 if x >= 25 else 0)"
      ],
      "execution_count": null,
      "outputs": []
    },
    {
      "cell_type": "code",
      "metadata": {
        "colab": {
          "base_uri": "https://localhost:8080/",
          "height": 478
        },
        "id": "LpndPEnhJqk5",
        "outputId": "bff7f349-7381-45e1-c6df-bc74262f401d"
      },
      "source": [
        "plt.figure(figsize = (35,10))\n",
        "plt.subplot(1,5,1)\n",
        "plt.title('lst week plot')\n",
        "plt.plot(march['1st_week'], march['ITEM_QTY'], 'o')\n",
        "plt.subplot(1,5,2)\n",
        "plt.title('2nd week plot')\n",
        "plt.plot(march['2nd_week'], march['ITEM_QTY'], 'o')\n",
        "plt.subplot(1,5,3)\n",
        "plt.title('3rd week plot')\n",
        "plt.plot(march['3rd_week'], march['ITEM_QTY'], 'o')\n",
        "plt.subplot(1,5,4)\n",
        "plt.title('4th week plot')\n",
        "plt.plot(march['4th_week'], march['ITEM_QTY'], 'o')\n",
        "plt.subplot(1,5,5)\n",
        "plt.title('last week plot')\n",
        "plt.plot(march['last_week'], march['ITEM_QTY'], 'o')"
      ],
      "execution_count": null,
      "outputs": [
        {
          "output_type": "execute_result",
          "data": {
            "text/plain": [
              "[<matplotlib.lines.Line2D at 0x7f51b7f87bd0>]"
            ]
          },
          "metadata": {},
          "execution_count": 66
        },
        {
          "output_type": "display_data",
          "data": {
            "image/png": "[encoded data removed]",
            "text/plain": [
              "<Figure size 2520x720 with 5 Axes>"
            ]
          },
          "metadata": {
            "needs_background": "light"
          }
        }
      ]
    },
    {
      "cell_type": "markdown",
      "metadata": {
        "id": "kWMFzhmcMaGs"
      },
      "source": [
        "# 쇼핑몰 코드 EDA"
      ]
    },
    {
      "cell_type": "code",
      "metadata": {
        "id": "cTJpxDk2OP55"
      },
      "source": [
        "L_encoder = LabelEncoder()\n",
        "L_encoder.fit(march['INS_ID'])\n",
        "march['INS_ID'] = L_encoder.transform(march['INS_ID'])"
      ],
      "execution_count": 7,
      "outputs": []
    },
    {
      "cell_type": "code",
      "metadata": {
        "colab": {
          "base_uri": "https://localhost:8080/"
        },
        "id": "I2lrUdZRMuCj",
        "outputId": "f4706966-6362-46e0-a154-e204f25bbc6d"
      },
      "source": [
        "march['INS_ID'].value_counts()\n",
        "# 뭐지? 했는데 iNEXBatch 말고는 전부 결측치떔에 날라감 ㅡㅡ;"
      ],
      "execution_count": 9,
      "outputs": [
        {
          "output_type": "execute_result",
          "data": {
            "text/plain": [
              "1    279850\n",
              "0         1\n",
              "Name: INS_ID, dtype: int64"
            ]
          },
          "metadata": {},
          "execution_count": 9
        }
      ]
    },
    {
      "cell_type": "code",
      "metadata": {
        "id": "QACXqVooLOwD"
      },
      "source": [
        "march['MALL_ID'] = "
      ],
      "execution_count": null,
      "outputs": []
    }
  ]
}