{
  "nbformat": 4,
  "nbformat_minor": 0,
  "metadata": {
    "colab": {
      "name": "Untitled1.ipynb",
      "provenance": [],
      "collapsed_sections": []
    },
    "kernelspec": {
      "name": "python3",
      "display_name": "Python 3"
    },
    "language_info": {
      "name": "python"
    }
  },
  "cells": [
    {
      "cell_type": "code",
      "metadata": {
        "colab": {
          "base_uri": "https://localhost:8080/"
        },
        "id": "NyfhqzmKij2Q",
        "outputId": "50e32d0a-00b1-4e9e-cff6-e608cd3eb2ee"
      },
      "source": [
        "from google.colab import drive\n",
        "drive.mount('/content/gdrive/')"
      ],
      "execution_count": 1,
      "outputs": [
        {
          "output_type": "stream",
          "name": "stdout",
          "text": [
            "Mounted at /content/gdrive/\n"
          ]
        }
      ]
    },
    {
      "cell_type": "code",
      "metadata": {
        "id": "xozMxuuQiXBs"
      },
      "source": [
        "import pandas as pd\n",
        "import matplotlib.pyplot as plt\n",
        "import seaborn as sns\n",
        "import numpy as np\n",
        "\n",
        "from sklearn.preprocessing import LabelEncoder"
      ],
      "execution_count": 60,
      "outputs": []
    },
    {
      "cell_type": "code",
      "metadata": {
        "id": "JA9tZvuDicB6"
      },
      "source": [
        "march_path = '/content/gdrive/MyDrive/Dataset/CJ AI/march.csv'"
      ],
      "execution_count": 13,
      "outputs": []
    },
    {
      "cell_type": "code",
      "metadata": {
        "colab": {
          "base_uri": "https://localhost:8080/"
        },
        "id": "cXtwEEZVib_j",
        "outputId": "4b74e837-a529-460b-e314-87fa575e27d3"
      },
      "source": [
        "march = pd.read_csv(march_path, encoding = 'utf-8')"
      ],
      "execution_count": 37,
      "outputs": [
        {
          "output_type": "stream",
          "name": "stderr",
          "text": [
            "/usr/local/lib/python3.7/dist-packages/IPython/core/interactiveshell.py:2718: DtypeWarning: Columns (16,17) have mixed types.Specify dtype option on import or set low_memory=False.\n",
            "  interactivity=interactivity, compiler=compiler, result=result)\n"
          ]
        }
      ]
    },
    {
      "cell_type": "code",
      "metadata": {
        "id": "7PFMPpZXib9O"
      },
      "source": [
        "march = march.dropna(axis = 0, how = 'any')"
      ],
      "execution_count": 45,
      "outputs": []
    },
    {
      "cell_type": "code",
      "metadata": {
        "id": "Wtt8DWZwHiFW"
      },
      "source": [
        "# march = march.iloc[:,:-1]"
      ],
      "execution_count": 35,
      "outputs": []
    },
    {
      "cell_type": "code",
      "metadata": {
        "colab": {
          "base_uri": "https://localhost:8080/",
          "height": 583
        },
        "id": "HDtV15jrHrL-",
        "outputId": "1aaf967c-f09b-41b0-b0c2-97400bd87800"
      },
      "source": [
        "march"
      ],
      "execution_count": 46,
      "outputs": [
        {
          "output_type": "execute_result",
          "data": {
            "text/html": [
              "<div>\n",
              "<style scoped>\n",
              "    .dataframe tbody tr th:only-of-type {\n",
              "        vertical-align: middle;\n",
              "    }\n",
              "\n",
              "    .dataframe tbody tr th {\n",
              "        vertical-align: top;\n",
              "    }\n",
              "\n",
              "    .dataframe thead th {\n",
              "        text-align: right;\n",
              "    }\n",
              "</style>\n",
              "<table border=\"1\" class=\"dataframe\">\n",
              "  <thead>\n",
              "    <tr style=\"text-align: right;\">\n",
              "      <th></th>\n",
              "      <th>CORP_ID</th>\n",
              "      <th>REF_ORD_NO</th>\n",
              "      <th>BKG_NO</th>\n",
              "      <th>BKG_TYP</th>\n",
              "      <th>BKG_DATE</th>\n",
              "      <th>BKG_TIME</th>\n",
              "      <th>SHPR_CD</th>\n",
              "      <th>INV_AMT</th>\n",
              "      <th>ITEM_SEQ</th>\n",
              "      <th>ITEM_CD</th>\n",
              "      <th>BRAND_NM</th>\n",
              "      <th>ITEM_QTY</th>\n",
              "      <th>ITEM_AMT</th>\n",
              "      <th>IF_YN</th>\n",
              "      <th>ORDER_CRT_DATETIME</th>\n",
              "      <th>DLV_DV</th>\n",
              "      <th>REF_ITEM_SEQ</th>\n",
              "      <th>ORDER_IDX</th>\n",
              "      <th>ORDER_YN</th>\n",
              "      <th>DLVPREARRBRANCD</th>\n",
              "      <th>DLVPREARREMPNICKNM</th>\n",
              "      <th>DLVCLSFCD</th>\n",
              "      <th>DLVSUBCLSFCD</th>\n",
              "      <th>INS_ID</th>\n",
              "      <th>INS_DATE</th>\n",
              "      <th>INS_TIME</th>\n",
              "      <th>POST_ZONE</th>\n",
              "      <th>SPLIT_EXEC_YN</th>\n",
              "      <th>SHPR_ADDR_1</th>\n",
              "      <th>SHPR_ADDR_2</th>\n",
              "      <th>CNEE_ADDR_1</th>\n",
              "      <th>CNEE_ADDR_2</th>\n",
              "    </tr>\n",
              "  </thead>\n",
              "  <tbody>\n",
              "    <tr>\n",
              "      <th>1</th>\n",
              "      <td>KX007</td>\n",
              "      <td>2021030365922951</td>\n",
              "      <td>KX007210303371080</td>\n",
              "      <td>7</td>\n",
              "      <td>20210303</td>\n",
              "      <td>35521</td>\n",
              "      <td>90001441</td>\n",
              "      <td>20900.0</td>\n",
              "      <td>1</td>\n",
              "      <td>4610261043_2</td>\n",
              "      <td>조합형옵션상품</td>\n",
              "      <td>1</td>\n",
              "      <td>20900.0</td>\n",
              "      <td>N</td>\n",
              "      <td>2.021030e+13</td>\n",
              "      <td>1.0</td>\n",
              "      <td>2021030323885721</td>\n",
              "      <td>2021030323885721</td>\n",
              "      <td>Y</td>\n",
              "      <td>6427</td>\n",
              "      <td>M09</td>\n",
              "      <td>6R67</td>\n",
              "      <td>4</td>\n",
              "      <td>iNEXBatch</td>\n",
              "      <td>20210303</td>\n",
              "      <td>131425</td>\n",
              "      <td>50.0</td>\n",
              "      <td>N</td>\n",
              "      <td>경기도</td>\n",
              "      <td>광주시</td>\n",
              "      <td>경상남도</td>\n",
              "      <td>김해시</td>\n",
              "    </tr>\n",
              "    <tr>\n",
              "      <th>2</th>\n",
              "      <td>KX007</td>\n",
              "      <td>2021030365924361</td>\n",
              "      <td>KX007210303371081</td>\n",
              "      <td>7</td>\n",
              "      <td>20210303</td>\n",
              "      <td>35513</td>\n",
              "      <td>90001441</td>\n",
              "      <td>37900.0</td>\n",
              "      <td>1</td>\n",
              "      <td>4936599538_1</td>\n",
              "      <td>조합형옵션상품</td>\n",
              "      <td>1</td>\n",
              "      <td>37900.0</td>\n",
              "      <td>N</td>\n",
              "      <td>2.021030e+13</td>\n",
              "      <td>1.0</td>\n",
              "      <td>2021030323887981</td>\n",
              "      <td>2021030323887981</td>\n",
              "      <td>Y</td>\n",
              "      <td>6158</td>\n",
              "      <td>L32</td>\n",
              "      <td>9Y25</td>\n",
              "      <td>0</td>\n",
              "      <td>iNEXBatch</td>\n",
              "      <td>20210303</td>\n",
              "      <td>131425</td>\n",
              "      <td>53.0</td>\n",
              "      <td>N</td>\n",
              "      <td>경기도</td>\n",
              "      <td>광주시</td>\n",
              "      <td>경상남도</td>\n",
              "      <td>거제시</td>\n",
              "    </tr>\n",
              "    <tr>\n",
              "      <th>3</th>\n",
              "      <td>KX007</td>\n",
              "      <td>2021030365928921</td>\n",
              "      <td>KX007210303371205</td>\n",
              "      <td>7</td>\n",
              "      <td>20210303</td>\n",
              "      <td>35608</td>\n",
              "      <td>90001542</td>\n",
              "      <td>69800.0</td>\n",
              "      <td>1</td>\n",
              "      <td>3858391637_1</td>\n",
              "      <td>조합형옵션상품</td>\n",
              "      <td>1</td>\n",
              "      <td>69800.0</td>\n",
              "      <td>N</td>\n",
              "      <td>2.021030e+13</td>\n",
              "      <td>1.0</td>\n",
              "      <td>2021030323895281</td>\n",
              "      <td>2021030323895281</td>\n",
              "      <td>Y</td>\n",
              "      <td>8909</td>\n",
              "      <td>D21</td>\n",
              "      <td>1N65</td>\n",
              "      <td>1</td>\n",
              "      <td>iNEXBatch</td>\n",
              "      <td>20210303</td>\n",
              "      <td>131425</td>\n",
              "      <td>6.0</td>\n",
              "      <td>N</td>\n",
              "      <td>경기도</td>\n",
              "      <td>광주시</td>\n",
              "      <td>서울특별시</td>\n",
              "      <td>서초구</td>\n",
              "    </tr>\n",
              "    <tr>\n",
              "      <th>4</th>\n",
              "      <td>KX007</td>\n",
              "      <td>2021030365930451</td>\n",
              "      <td>KX007210303370967</td>\n",
              "      <td>7</td>\n",
              "      <td>20210303</td>\n",
              "      <td>35551</td>\n",
              "      <td>90001341</td>\n",
              "      <td>73700.0</td>\n",
              "      <td>1</td>\n",
              "      <td>4631307460</td>\n",
              "      <td>단일상품</td>\n",
              "      <td>1</td>\n",
              "      <td>39800.0</td>\n",
              "      <td>N</td>\n",
              "      <td>2.021030e+13</td>\n",
              "      <td>1.0</td>\n",
              "      <td>2021030323897651</td>\n",
              "      <td>2021030323897651</td>\n",
              "      <td>Y</td>\n",
              "      <td>2777</td>\n",
              "      <td>R15</td>\n",
              "      <td>3D84</td>\n",
              "      <td>1</td>\n",
              "      <td>iNEXBatch</td>\n",
              "      <td>20210303</td>\n",
              "      <td>131425</td>\n",
              "      <td>10.0</td>\n",
              "      <td>N</td>\n",
              "      <td>경기도</td>\n",
              "      <td>광주시</td>\n",
              "      <td>경기도</td>\n",
              "      <td>김포시</td>\n",
              "    </tr>\n",
              "    <tr>\n",
              "      <th>5</th>\n",
              "      <td>KX007</td>\n",
              "      <td>2021030365930451</td>\n",
              "      <td>KX007210303370967</td>\n",
              "      <td>7</td>\n",
              "      <td>20210303</td>\n",
              "      <td>35551</td>\n",
              "      <td>90001341</td>\n",
              "      <td>73700.0</td>\n",
              "      <td>2</td>\n",
              "      <td>2475138283</td>\n",
              "      <td>단일상품</td>\n",
              "      <td>1</td>\n",
              "      <td>15900.0</td>\n",
              "      <td>N</td>\n",
              "      <td>2.021030e+13</td>\n",
              "      <td>1.0</td>\n",
              "      <td>2021030323897661</td>\n",
              "      <td>2021030323897661</td>\n",
              "      <td>Y</td>\n",
              "      <td>2777</td>\n",
              "      <td>R15</td>\n",
              "      <td>3D84</td>\n",
              "      <td>1</td>\n",
              "      <td>iNEXBatch</td>\n",
              "      <td>20210303</td>\n",
              "      <td>131425</td>\n",
              "      <td>10.0</td>\n",
              "      <td>N</td>\n",
              "      <td>경기도</td>\n",
              "      <td>광주시</td>\n",
              "      <td>경기도</td>\n",
              "      <td>김포시</td>\n",
              "    </tr>\n",
              "    <tr>\n",
              "      <th>...</th>\n",
              "      <td>...</td>\n",
              "      <td>...</td>\n",
              "      <td>...</td>\n",
              "      <td>...</td>\n",
              "      <td>...</td>\n",
              "      <td>...</td>\n",
              "      <td>...</td>\n",
              "      <td>...</td>\n",
              "      <td>...</td>\n",
              "      <td>...</td>\n",
              "      <td>...</td>\n",
              "      <td>...</td>\n",
              "      <td>...</td>\n",
              "      <td>...</td>\n",
              "      <td>...</td>\n",
              "      <td>...</td>\n",
              "      <td>...</td>\n",
              "      <td>...</td>\n",
              "      <td>...</td>\n",
              "      <td>...</td>\n",
              "      <td>...</td>\n",
              "      <td>...</td>\n",
              "      <td>...</td>\n",
              "      <td>...</td>\n",
              "      <td>...</td>\n",
              "      <td>...</td>\n",
              "      <td>...</td>\n",
              "      <td>...</td>\n",
              "      <td>...</td>\n",
              "      <td>...</td>\n",
              "      <td>...</td>\n",
              "      <td>...</td>\n",
              "    </tr>\n",
              "    <tr>\n",
              "      <th>309344</th>\n",
              "      <td>KX007</td>\n",
              "      <td>2021040163699601</td>\n",
              "      <td>KX007210401807627</td>\n",
              "      <td>7</td>\n",
              "      <td>20210331</td>\n",
              "      <td>234559</td>\n",
              "      <td>90001582</td>\n",
              "      <td>43600.0</td>\n",
              "      <td>1</td>\n",
              "      <td>4789343708_1</td>\n",
              "      <td>조합형옵션상품</td>\n",
              "      <td>1</td>\n",
              "      <td>43600.0</td>\n",
              "      <td>N</td>\n",
              "      <td>2.021033e+13</td>\n",
              "      <td>1.0</td>\n",
              "      <td>2021040124264101</td>\n",
              "      <td>2021040124264101</td>\n",
              "      <td>Y</td>\n",
              "      <td>L21A</td>\n",
              "      <td>M18</td>\n",
              "      <td>6M31</td>\n",
              "      <td>1</td>\n",
              "      <td>iNEXBatch</td>\n",
              "      <td>20210401</td>\n",
              "      <td>174255</td>\n",
              "      <td>38.0</td>\n",
              "      <td>N</td>\n",
              "      <td>경기도</td>\n",
              "      <td>안산시</td>\n",
              "      <td>경상북도</td>\n",
              "      <td>경주시</td>\n",
              "    </tr>\n",
              "    <tr>\n",
              "      <th>309345</th>\n",
              "      <td>KX007</td>\n",
              "      <td>2021040163729011</td>\n",
              "      <td>KX007210401807628</td>\n",
              "      <td>7</td>\n",
              "      <td>20210331</td>\n",
              "      <td>234749</td>\n",
              "      <td>90001582</td>\n",
              "      <td>26000.0</td>\n",
              "      <td>1</td>\n",
              "      <td>4624612404_16</td>\n",
              "      <td>조합형옵션상품</td>\n",
              "      <td>1</td>\n",
              "      <td>26000.0</td>\n",
              "      <td>N</td>\n",
              "      <td>2.021033e+13</td>\n",
              "      <td>1.0</td>\n",
              "      <td>2021040124312901</td>\n",
              "      <td>2021040124312901</td>\n",
              "      <td>Y</td>\n",
              "      <td>1877</td>\n",
              "      <td>J16</td>\n",
              "      <td>1P45</td>\n",
              "      <td>3</td>\n",
              "      <td>iNEXBatch</td>\n",
              "      <td>20210401</td>\n",
              "      <td>174255</td>\n",
              "      <td>5.0</td>\n",
              "      <td>N</td>\n",
              "      <td>경기도</td>\n",
              "      <td>안산시</td>\n",
              "      <td>서울특별시</td>\n",
              "      <td>송파구</td>\n",
              "    </tr>\n",
              "    <tr>\n",
              "      <th>309346</th>\n",
              "      <td>KX007</td>\n",
              "      <td>2021040163847431</td>\n",
              "      <td>KX007210401807225</td>\n",
              "      <td>7</td>\n",
              "      <td>20210331</td>\n",
              "      <td>235454</td>\n",
              "      <td>90001582</td>\n",
              "      <td>70800.0</td>\n",
              "      <td>1</td>\n",
              "      <td>2012852981_3</td>\n",
              "      <td>조합형옵션상품</td>\n",
              "      <td>1</td>\n",
              "      <td>70800.0</td>\n",
              "      <td>N</td>\n",
              "      <td>2.021033e+13</td>\n",
              "      <td>1.0</td>\n",
              "      <td>2021040124512081</td>\n",
              "      <td>2021040124512081</td>\n",
              "      <td>Y</td>\n",
              "      <td>6114</td>\n",
              "      <td>I73</td>\n",
              "      <td>6N85</td>\n",
              "      <td>0p</td>\n",
              "      <td>iNEXBatch</td>\n",
              "      <td>20210401</td>\n",
              "      <td>174255</td>\n",
              "      <td>49.0</td>\n",
              "      <td>N</td>\n",
              "      <td>경기도</td>\n",
              "      <td>안산시</td>\n",
              "      <td>부산광역시</td>\n",
              "      <td>사하구</td>\n",
              "    </tr>\n",
              "    <tr>\n",
              "      <th>309347</th>\n",
              "      <td>KX007</td>\n",
              "      <td>2021040163863411</td>\n",
              "      <td>KX007210401807629</td>\n",
              "      <td>7</td>\n",
              "      <td>20210331</td>\n",
              "      <td>235554</td>\n",
              "      <td>90001582</td>\n",
              "      <td>19500.0</td>\n",
              "      <td>1</td>\n",
              "      <td>161523952_5</td>\n",
              "      <td>조합형옵션상품</td>\n",
              "      <td>1</td>\n",
              "      <td>19500.0</td>\n",
              "      <td>N</td>\n",
              "      <td>2.021033e+13</td>\n",
              "      <td>1.0</td>\n",
              "      <td>2021040124539761</td>\n",
              "      <td>2021040124539761</td>\n",
              "      <td>Y</td>\n",
              "      <td>M53P</td>\n",
              "      <td>G50</td>\n",
              "      <td>6R69</td>\n",
              "      <td>2p</td>\n",
              "      <td>iNEXBatch</td>\n",
              "      <td>20210401</td>\n",
              "      <td>174255</td>\n",
              "      <td>46.0</td>\n",
              "      <td>N</td>\n",
              "      <td>경기도</td>\n",
              "      <td>안산시</td>\n",
              "      <td>부산광역시</td>\n",
              "      <td>북구</td>\n",
              "    </tr>\n",
              "    <tr>\n",
              "      <th>309348</th>\n",
              "      <td>KX007</td>\n",
              "      <td>2021040163894031</td>\n",
              "      <td>KX007210401807630</td>\n",
              "      <td>7</td>\n",
              "      <td>20210331</td>\n",
              "      <td>235800</td>\n",
              "      <td>90001582</td>\n",
              "      <td>43600.0</td>\n",
              "      <td>1</td>\n",
              "      <td>4789343708_3</td>\n",
              "      <td>조합형옵션상품</td>\n",
              "      <td>1</td>\n",
              "      <td>43600.0</td>\n",
              "      <td>N</td>\n",
              "      <td>2.021033e+13</td>\n",
              "      <td>1.0</td>\n",
              "      <td>2021040124590951</td>\n",
              "      <td>2021040124590951</td>\n",
              "      <td>Y</td>\n",
              "      <td>6877</td>\n",
              "      <td>F55</td>\n",
              "      <td>6N21</td>\n",
              "      <td>2p</td>\n",
              "      <td>iNEXBatch</td>\n",
              "      <td>20210401</td>\n",
              "      <td>174255</td>\n",
              "      <td>49.0</td>\n",
              "      <td>N</td>\n",
              "      <td>경기도</td>\n",
              "      <td>안산시</td>\n",
              "      <td>부산광역시</td>\n",
              "      <td>서구</td>\n",
              "    </tr>\n",
              "  </tbody>\n",
              "</table>\n",
              "<p>279851 rows × 32 columns</p>\n",
              "</div>"
            ],
            "text/plain": [
              "       CORP_ID        REF_ORD_NO  ... CNEE_ADDR_1  CNEE_ADDR_2\n",
              "1        KX007  2021030365922951  ...        경상남도          김해시\n",
              "2        KX007  2021030365924361  ...        경상남도          거제시\n",
              "3        KX007  2021030365928921  ...       서울특별시          서초구\n",
              "4        KX007  2021030365930451  ...         경기도          김포시\n",
              "5        KX007  2021030365930451  ...         경기도          김포시\n",
              "...        ...               ...  ...         ...          ...\n",
              "309344   KX007  2021040163699601  ...        경상북도          경주시\n",
              "309345   KX007  2021040163729011  ...       서울특별시          송파구\n",
              "309346   KX007  2021040163847431  ...       부산광역시          사하구\n",
              "309347   KX007  2021040163863411  ...       부산광역시           북구\n",
              "309348   KX007  2021040163894031  ...       부산광역시           서구\n",
              "\n",
              "[279851 rows x 32 columns]"
            ]
          },
          "metadata": {},
          "execution_count": 46
        }
      ]
    },
    {
      "cell_type": "code",
      "metadata": {
        "colab": {
          "base_uri": "https://localhost:8080/"
        },
        "id": "y7Y5XVk0IVIV",
        "outputId": "e4050119-9f3e-4609-ba48-4966d4369efa"
      },
      "source": [
        "march['BRAND_NM']"
      ],
      "execution_count": 47,
      "outputs": [
        {
          "output_type": "execute_result",
          "data": {
            "text/plain": [
              "1         조합형옵션상품\n",
              "2         조합형옵션상품\n",
              "3         조합형옵션상품\n",
              "4            단일상품\n",
              "5            단일상품\n",
              "           ...   \n",
              "309344    조합형옵션상품\n",
              "309345    조합형옵션상품\n",
              "309346    조합형옵션상품\n",
              "309347    조합형옵션상품\n",
              "309348    조합형옵션상품\n",
              "Name: BRAND_NM, Length: 279851, dtype: object"
            ]
          },
          "metadata": {},
          "execution_count": 47
        }
      ]
    },
    {
      "cell_type": "code",
      "metadata": {
        "colab": {
          "base_uri": "https://localhost:8080/"
        },
        "id": "1oFxBPNgu-_C",
        "outputId": "5ad18279-73ec-415d-88d6-9f5756f76f74"
      },
      "source": [
        "L_encoder = LabelEncoder()\n",
        "L_encoder.fit(march['BRAND_NM'])\n",
        "march['BRAND_NM'] = L_encoder.transform(march['BRAND_NM'])"
      ],
      "execution_count": 51,
      "outputs": [
        {
          "output_type": "stream",
          "name": "stderr",
          "text": [
            "/usr/local/lib/python3.7/dist-packages/ipykernel_launcher.py:3: SettingWithCopyWarning: \n",
            "A value is trying to be set on a copy of a slice from a DataFrame.\n",
            "Try using .loc[row_indexer,col_indexer] = value instead\n",
            "\n",
            "See the caveats in the documentation: https://pandas.pydata.org/pandas-docs/stable/user_guide/indexing.html#returning-a-view-versus-a-copy\n",
            "  This is separate from the ipykernel package so we can avoid doing imports until\n"
          ]
        }
      ]
    },
    {
      "cell_type": "code",
      "metadata": {
        "colab": {
          "base_uri": "https://localhost:8080/",
          "height": 387
        },
        "id": "G1keCMUAu7h7",
        "outputId": "81d9456e-e9de-48c3-a9a8-3f878f807b57"
      },
      "source": [
        "sns.displot(march['ITEM_QTY'])"
      ],
      "execution_count": 52,
      "outputs": [
        {
          "output_type": "execute_result",
          "data": {
            "text/plain": [
              "<seaborn.axisgrid.FacetGrid at 0x7f9fc54d8f50>"
            ]
          },
          "metadata": {},
          "execution_count": 52
        },
        {
          "output_type": "display_data",
          "data": {
            "image/png": "[encoded data removed]",
            "text/plain": [
              "<Figure size 360x360 with 1 Axes>"
            ]
          },
          "metadata": {
            "needs_background": "light"
          }
        }
      ]
    },
    {
      "cell_type": "code",
      "metadata": {
        "colab": {
          "base_uri": "https://localhost:8080/",
          "height": 338
        },
        "id": "QGcgVZmHI9aO",
        "outputId": "4056910d-b4f1-445c-d446-a587853ca05b"
      },
      "source": [
        "plt.plot(march['BRAND_NM'], march['ITEM_QTY'], 'o')\n",
        "plt.show()\n",
        "print(march['BRAND_NM'].value_counts()) # 적어도 3월엔 3개의 종류의 상품만 존재함."
      ],
      "execution_count": 57,
      "outputs": [
        {
          "output_type": "display_data",
          "data": {
            "image/png": "[encoded data removed]",
            "text/plain": [
              "<Figure size 432x288 with 1 Axes>"
            ]
          },
          "metadata": {
            "needs_background": "light"
          }
        },
        {
          "output_type": "stream",
          "name": "stdout",
          "text": [
            "1    231851\n",
            "0     47417\n",
            "2       583\n",
            "Name: BRAND_NM, dtype: int64\n"
          ]
        }
      ]
    },
    {
      "cell_type": "code",
      "metadata": {
        "colab": {
          "base_uri": "https://localhost:8080/",
          "height": 669
        },
        "id": "oIVazZGBJAt_",
        "outputId": "2d392bcc-52bf-481d-d761-a90e8ae404cf"
      },
      "source": [
        "plt.plot(march['ITEM_SEQ'], march['ITEM_QTY'], 'o')\n",
        "plt.show()\n",
        "print(march['ITEM_SEQ'].value_counts())\n",
        "# 시퀀스 값에 따라서 현저히 감소하는 추세를 확인할 수 있음!"
      ],
      "execution_count": 58,
      "outputs": [
        {
          "output_type": "display_data",
          "data": {
            "image/png": "[encoded data removed]",
            "text/plain": [
              "<Figure size 432x288 with 1 Axes>"
            ]
          },
          "metadata": {
            "needs_background": "light"
          }
        },
        {
          "output_type": "stream",
          "name": "stdout",
          "text": [
            "1     218001\n",
            "2      36433\n",
            "3      14233\n",
            "4       6026\n",
            "5       2435\n",
            "6       1234\n",
            "7        734\n",
            "8        395\n",
            "9        141\n",
            "10        76\n",
            "11        49\n",
            "12        33\n",
            "13        22\n",
            "14        12\n",
            "15         9\n",
            "16         6\n",
            "17         4\n",
            "18         3\n",
            "20         2\n",
            "19         2\n",
            "21         1\n",
            "Name: ITEM_SEQ, dtype: int64\n"
          ]
        }
      ]
    },
    {
      "cell_type": "code",
      "metadata": {
        "colab": {
          "base_uri": "https://localhost:8080/",
          "height": 265
        },
        "id": "aGHabNbKKDff",
        "outputId": "0c9dd66d-c513-45fc-fb2b-f9e79daad7ca"
      },
      "source": [
        "plt.plot(np.log(march['ITEM_AMT']), march['ITEM_QTY'], 'o')\n",
        "plt.show()\n",
        "# 가격 스케일이 커서 로그를 씌우고 실행시킴.\n",
        "# 전반적으로 가격이 커질수록 배송할 제품의 양이 커지는 효과를 볼 수 있음.\n",
        " "
      ],
      "execution_count": 61,
      "outputs": [
        {
          "output_type": "display_data",
          "data": {
            "image/png": "[encoded data removed]",
            "text/plain": [
              "<Figure size 432x288 with 1 Axes>"
            ]
          },
          "metadata": {
            "needs_background": "light"
          }
        }
      ]
    },
    {
      "cell_type": "code",
      "metadata": {
        "colab": {
          "base_uri": "https://localhost:8080/",
          "height": 265
        },
        "id": "ZWMziCWdKmHp",
        "outputId": "6787e646-eff8-4cc7-94e1-80cf4b10b6df"
      },
      "source": [
        "plt.plot(np.log(march['INV_AMT']), march['ITEM_QTY'], 'o')\n",
        "plt.show()"
      ],
      "execution_count": 62,
      "outputs": [
        {
          "output_type": "display_data",
          "data": {
            "image/png": "[encoded data removed]",
            "text/plain": [
              "<Figure size 432x288 with 1 Axes>"
            ]
          },
          "metadata": {
            "needs_background": "light"
          }
        }
      ]
    },
    {
      "cell_type": "code",
      "metadata": {
        "colab": {
          "base_uri": "https://localhost:8080/",
          "height": 374
        },
        "id": "wy78XUCyKr0O",
        "outputId": "6574e68b-7f91-4f32-e7b7-7d3ac08afcd3"
      },
      "source": [
        "plt.figure(figsize = (12,6))\n",
        "plt.subplot(1,2,1)\n",
        "plt.plot(np.log(march['INV_AMT']), np.log(march['ITEM_AMT']), 'o')\n",
        "plt.xlim(5, 21)\n",
        "plt.ylim(5, 21)\n",
        "plt.subplot(1,2,2)\n",
        "plt.plot(np.log(march['INV_AMT']), np.log(march['ITEM_AMT'] * march['ITEM_QTY']), 'o')\n",
        "plt.xlim(5, 21)\n",
        "plt.ylim(5, 21)\n",
        "plt.show()\n",
        "plt.show()\n",
        "# 혹시 몰라서 주문 금액과 품목 금액에 대한 EDA를 해봤는데, 대략적으로 품목 금액은 주문 금액과 비례하는 성질을 가짐.\n",
        "# 그리고 혹시나 해서 품목금액과 수량의 곱을 적용해 보았지만, 기존의 것이 더 설득력있는 분석임을 확인함.\n",
        "# 그런데 주문금액과 품목 금액간 차이가 나는 이유는? 대체적으로 주문금액 > 품목금액이지만, 그렇지 않은 케이스도 존재함."
      ],
      "execution_count": 74,
      "outputs": [
        {
          "output_type": "display_data",
          "data": {
            "image/png": "[encoded data removed]",
            "text/plain": [
              "<Figure size 864x432 with 2 Axes>"
            ]
          },
          "metadata": {
            "needs_background": "light"
          }
        }
      ]
    },
    {
      "cell_type": "code",
      "metadata": {
        "colab": {
          "base_uri": "https://localhost:8080/",
          "height": 265
        },
        "id": "zZ8ENUHZK-L7",
        "outputId": "4eaf953a-acf3-48cb-a429-c3ef3ec02e8d"
      },
      "source": [
        "plt.plot(np.log(march['INV_AMT']), np.log(march['ITEM_AMT'] * march['ITEM_QTY']), 'o')\n",
        "plt.xlim(5, 21)\n",
        "plt.ylim(5, 21)\n",
        "plt.show()\n",
        "# 혹시 몰라서 주문 금액과 품목 금액에 대한 EDA를 해봤는데, 대략적으로 "
      ],
      "execution_count": 68,
      "outputs": [
        {
          "output_type": "display_data",
          "data": {
            "image/png": "[encoded data removed]",
            "text/plain": [
              "<Figure size 432x288 with 1 Axes>"
            ]
          },
          "metadata": {
            "needs_background": "light"
          }
        }
      ]
    },
    {
      "cell_type": "code",
      "metadata": {
        "colab": {
          "base_uri": "https://localhost:8080/",
          "height": 283
        },
        "id": "GFBjeLudMhxb",
        "outputId": "ce37c15b-1e32-4ff8-d61b-27a4cc6c0f1e"
      },
      "source": [
        "k = march['SHPR_CD'] - march['SHPR_CD'].min()\n",
        "plt.plot(k, march['ITEM_QTY'], 'o')\n",
        "# 고객사 코드를 통한 eda, 확실히 고객사 별로 데이터 수도 다르고 분포 또한 다름을 알 수 있음. \n",
        "# 특히 특정 고객사의 주문량이 폭주하는 모습을 볼 수 있다. "
      ],
      "execution_count": 92,
      "outputs": [
        {
          "output_type": "execute_result",
          "data": {
            "text/plain": [
              "[<matplotlib.lines.Line2D at 0x7f9fbee32cd0>]"
            ]
          },
          "metadata": {},
          "execution_count": 92
        },
        {
          "output_type": "display_data",
          "data": {
            "image/png": "[encoded data removed]",
            "text/plain": [
              "<Figure size 432x288 with 1 Axes>"
            ]
          },
          "metadata": {
            "needs_background": "light"
          }
        }
      ]
    },
    {
      "cell_type": "code",
      "metadata": {
        "colab": {
          "base_uri": "https://localhost:8080/"
        },
        "id": "5Abva3NxNVxp",
        "outputId": "372c4408-1307-45b2-fb35-4404ed101651"
      },
      "source": [
        "march['ITEM_CD'].value_counts() # 주문 코드가 동일한 주문이 많다? 한번에 배송을 하는 것을 의미하는 걸까?"
      ],
      "execution_count": 84,
      "outputs": [
        {
          "output_type": "execute_result",
          "data": {
            "text/plain": [
              "4658408144_1     9688\n",
              "4586602884_10    3479\n",
              "4586602884_11    3281\n",
              "5390871219       2833\n",
              "5435094301_3     2833\n",
              "                 ... \n",
              "4628486056_2        1\n",
              "4704686452_2        1\n",
              "5012928841          1\n",
              "4588099880_4        1\n",
              "4496256740_42       1\n",
              "Name: ITEM_CD, Length: 5320, dtype: int64"
            ]
          },
          "metadata": {},
          "execution_count": 84
        }
      ]
    },
    {
      "cell_type": "code",
      "metadata": {
        "colab": {
          "base_uri": "https://localhost:8080/"
        },
        "id": "s6AB7wPqNuiR",
        "outputId": "63bab249-0099-414d-f525-ae7c2c10d390"
      },
      "source": [
        "L_encoder = LabelEncoder()\n",
        "L_encoder.fit(march['ITEM_CD'])\n",
        "march['ITEM_CD'] = L_encoder.transform(march['ITEM_CD'])"
      ],
      "execution_count": 85,
      "outputs": [
        {
          "output_type": "stream",
          "name": "stderr",
          "text": [
            "/usr/local/lib/python3.7/dist-packages/ipykernel_launcher.py:3: SettingWithCopyWarning: \n",
            "A value is trying to be set on a copy of a slice from a DataFrame.\n",
            "Try using .loc[row_indexer,col_indexer] = value instead\n",
            "\n",
            "See the caveats in the documentation: https://pandas.pydata.org/pandas-docs/stable/user_guide/indexing.html#returning-a-view-versus-a-copy\n",
            "  This is separate from the ipykernel package so we can avoid doing imports until\n"
          ]
        }
      ]
    },
    {
      "cell_type": "code",
      "metadata": {
        "colab": {
          "base_uri": "https://localhost:8080/"
        },
        "id": "kvhz7x4mN3P9",
        "outputId": "084fb1e9-69c5-4718-b555-347248ff7752"
      },
      "source": [
        "march['ITEM_CD'].value_counts()"
      ],
      "execution_count": 86,
      "outputs": [
        {
          "output_type": "execute_result",
          "data": {
            "text/plain": [
              "1486    9688\n",
              "1223    3479\n",
              "1224    3281\n",
              "4692    2833\n",
              "4826    2833\n",
              "        ... \n",
              "2864       1\n",
              "817        1\n",
              "4046       1\n",
              "3534       1\n",
              "0          1\n",
              "Name: ITEM_CD, Length: 5320, dtype: int64"
            ]
          },
          "metadata": {},
          "execution_count": 86
        }
      ]
    },
    {
      "cell_type": "code",
      "metadata": {
        "colab": {
          "base_uri": "https://localhost:8080/",
          "height": 283
        },
        "id": "fF3_kh8aN0hg",
        "outputId": "1fadce0b-7b68-4731-bc75-8b65c62e5c8e"
      },
      "source": [
        "plt.plot(march['ITEM_CD'], march['ITEM_QTY'], 'o')\n",
        "# 주문코드 별로 분포가 상이하게 다른? 모습을 볼 수 있다. 좀 더 자세히 볼 필요가 있을것 같다."
      ],
      "execution_count": 93,
      "outputs": [
        {
          "output_type": "execute_result",
          "data": {
            "text/plain": [
              "[<matplotlib.lines.Line2D at 0x7f9fbf015050>]"
            ]
          },
          "metadata": {},
          "execution_count": 93
        },
        {
          "output_type": "display_data",
          "data": {
            "image/png": "[encoded data removed]",
            "text/plain": [
              "<Figure size 432x288 with 1 Axes>"
            ]
          },
          "metadata": {
            "needs_background": "light"
          }
        }
      ]
    },
    {
      "cell_type": "code",
      "metadata": {
        "colab": {
          "base_uri": "https://localhost:8080/",
          "height": 329
        },
        "id": "Fu7TdehTOCR-",
        "outputId": "5574f2ca-939b-4b6c-cf16-2b4a4d3954cd"
      },
      "source": [
        "plt.figure(figsize = (30,6))\n",
        "plt.subplot(1,5,1)\n",
        "plt.plot(march['ITEM_CD'], march['ITEM_QTY'], 'o')\n",
        "plt.xlim(0, 1000)\n",
        "plt.subplot(1,5,2)\n",
        "plt.plot(march['ITEM_CD'], march['ITEM_QTY'], 'o')\n",
        "plt.xlim(1000, 2000)\n",
        "plt.subplot(1,5,3)\n",
        "plt.plot(march['ITEM_CD'], march['ITEM_QTY'], 'o')\n",
        "plt.xlim(2000, 3000)\n",
        "plt.subplot(1,5,4)\n",
        "plt.plot(march['ITEM_CD'], march['ITEM_QTY'], 'o')\n",
        "plt.xlim(3000, 4000)\n",
        "plt.subplot(1,5,5)\n",
        "plt.plot(march['ITEM_CD'], march['ITEM_QTY'], 'o')\n",
        "plt.xlim(4000, march['ITEM_CD'].max())\n",
        "plt.show()\n",
        "# 주문 코드별 수량을 봤는데, 특정 주문 코드에서 주문이 폭발적으로 증가.\n",
        "# 아마도 고객사와 연계하면 더 좋게 될지도? \n",
        "# 하지만 주문코드는 주문할 때마다 달라지지 않을까? 그러면 의미가 퇴색될 가능성이 높아질 것이다."
      ],
      "execution_count": 94,
      "outputs": [
        {
          "output_type": "display_data",
          "data": {
            "image/png": "[encoded data removed]",
            "text/plain": [
              "<Figure size 2160x432 with 5 Axes>"
            ]
          },
          "metadata": {
            "needs_background": "light"
          }
        }
      ]
    }
  ]
}